{
 "cells": [
  {
   "cell_type": "markdown",
   "id": "0d24a8b8-3524-42e0-ac12-96a0172de887",
   "metadata": {},
   "source": [
    "## Importing all required libraries"
   ]
  },
  {
   "cell_type": "code",
   "execution_count": null,
   "id": "808dd05a-3461-4e85-9945-22b30f028254",
   "metadata": {
    "tags": []
   },
   "outputs": [],
   "source": [
    "import numpy as np\n",
    "import xarray as xr\n",
    "\n",
    "import rasterio.features\n",
    "import stackstac\n",
    "import pystac_client\n",
    "import planetary_computer\n",
    "\n",
    "import xrspatial.multispectral as ms\n",
    "\n",
    "from dask_gateway import GatewayCluster"
   ]
  },
  {
   "cell_type": "markdown",
   "id": "2dad599e-be6f-4a94-b7c9-c2c87c51f126",
   "metadata": {
    "tags": []
   },
   "source": [
    "## Create a Dask cluster"
   ]
  },
  {
   "cell_type": "code",
   "execution_count": null,
   "id": "274f7261-9ae5-4ecd-808b-746b1f09a86e",
   "metadata": {
    "tags": []
   },
   "outputs": [],
   "source": [
    "cluster = GatewayCluster()  # Creates the Dask Scheduler. Might take a minute.\n",
    "\n",
    "client = cluster.get_client()\n",
    "\n",
    "cluster.adapt(minimum=4, maximum=24)\n",
    "print(cluster.dashboard_link)"
   ]
  },
  {
   "cell_type": "code",
   "execution_count": null,
   "id": "b8cebdd4-32d5-46f4-865a-c2437096012e",
   "metadata": {
    "tags": []
   },
   "outputs": [],
   "source": [
    "area_of_interest = {\n",
    "    \"type\": \"Polygon\",\n",
    "    \"coordinates\": [\n",
    "[\n",
    "            [\n",
    "              28.184331178064923,\n",
    "              -24.68487285649138\n",
    "            ],\n",
    "            [\n",
    "              28.184331178064923,\n",
    "              -24.803760340510735\n",
    "            ],\n",
    "            [\n",
    "              28.346284282010146,\n",
    "              -24.803760340510735\n",
    "            ],\n",
    "            [\n",
    "              28.346284282010146,\n",
    "              -24.68487285649138\n",
    "            ],\n",
    "            [\n",
    "              28.184331178064923,\n",
    "              -24.68487285649138\n",
    "            ]\n",
    "          ]\n",
    "    ],\n",
    "}\n",
    "bbox = rasterio.features.bounds(area_of_interest)\n"
   ]
  },
  {
   "cell_type": "code",
   "execution_count": null,
   "id": "56da92d7-1a96-46ac-be94-64b9d79e5625",
   "metadata": {
    "tags": []
   },
   "outputs": [],
   "source": [
    "stac = pystac_client.Client.open(\n",
    "    \"https://planetarycomputer.microsoft.com/api/stac/v1\",\n",
    "    modifier=planetary_computer.sign_inplace,\n",
    ")\n",
    "\n",
    "search = stac.search(\n",
    "    bbox=bbox,\n",
    "    datetime=\"2021-12-31/2023-01-01\",\n",
    "    collections=[\"sentinel-2-l2a\"],\n",
    "    query={\"eo:cloud_cover\": {\"lt\": 25}},\n",
    ")\n",
    "\n",
    "items = search.item_collection()\n",
    "# print(len(items))\n",
    "\n",
    "print(items.items[0].assets)"
   ]
  },
  {
   "cell_type": "code",
   "execution_count": null,
   "id": "47109959-4a97-48b9-8c66-ab8331b831e9",
   "metadata": {
    "tags": []
   },
   "outputs": [],
   "source": [
    "data = (\n",
    "    stackstac.stack(\n",
    "        items,\n",
    "        assets=[\"B01\", \"B02\", \"B03\", \"B04\", \"B05\", \"B06\", \"B07\", \"B08\", \"B09\", \"B8A\", \"B11\", \"B12\"],\n",
    "        chunksize=4096,\n",
    "        resolution=100,\n",
    "    )\n",
    "    .where(lambda x: x > 0, other=np.nan)  # sentinel-2 uses 0 as nodata\n",
    "    .assign_coords(band=lambda x: x.common_name.rename(\"band\"))  # use common names\n",
    ")\n",
    "data"
   ]
  },
  {
   "cell_type": "markdown",
   "id": "0fbf2601-4ea2-41a9-a156-c75b528f523a",
   "metadata": {},
   "source": [
    "Since the data matching our query isn't too large we can persist it in distributed memory. Once in memory, subsequent operations will be much faster."
   ]
  },
  {
   "cell_type": "code",
   "execution_count": null,
   "id": "3907bd69-95be-45c8-bec4-d2ca818dd116",
   "metadata": {
    "tags": []
   },
   "outputs": [],
   "source": [
    "data = data.persist()\n",
    "data"
   ]
  },
  {
   "cell_type": "markdown",
   "id": "ac09e4b4-2558-4da6-91ad-063ac04fc396",
   "metadata": {},
   "source": [
    "## Create a median composite"
   ]
  },
  {
   "cell_type": "code",
   "execution_count": null,
   "id": "66009ccd-fe88-405a-afc5-3ba0dc74178b",
   "metadata": {
    "tags": []
   },
   "outputs": [],
   "source": [
    "median = data.median(dim=\"time\").compute()"
   ]
  },
  {
   "cell_type": "code",
   "execution_count": null,
   "id": "671cb3d8-0515-4c94-bf13-059af1705440",
   "metadata": {
    "tags": []
   },
   "outputs": [],
   "source": [
    "median"
   ]
  },
  {
   "cell_type": "code",
   "execution_count": null,
   "id": "dea5bd16-6033-474d-aabe-e0a89e336e76",
   "metadata": {
    "tags": []
   },
   "outputs": [],
   "source": [
    "image = ms.true_color(*median)  # expects red, green, blue DataArrays\n",
    "import matplotlib.pyplot as plt\n",
    "\n",
    "fig, ax = plt.subplots(figsize=(8, 8))\n",
    "\n",
    "# ax.set_axis_off()\n",
    "image.plot.imshow(ax=ax);"
   ]
  },
  {
   "cell_type": "markdown",
   "id": "08735f5e-7356-4f1b-ae40-b2e03a05211d",
   "metadata": {},
   "source": [
    "## Monthly composite"
   ]
  },
  {
   "cell_type": "code",
   "execution_count": null,
   "id": "2ab61999-3caf-4fec-b3a0-128f3c8cbe0d",
   "metadata": {
    "tags": []
   },
   "outputs": [],
   "source": [
    "monthly = data.groupby(\"time.month\").median().compute()\n",
    "\n",
    "images = [ms.true_color(*x) for x in monthly]\n",
    "images = xr.concat(images, dim=\"time\")\n",
    "\n"
   ]
  },
  {
   "cell_type": "code",
   "execution_count": null,
   "id": "bcdd5ca7-e3f6-4512-85cc-a13dd99c03f6",
   "metadata": {
    "tags": []
   },
   "outputs": [],
   "source": [
    "g = images.plot.imshow(x=\"x\", y=\"y\", rgb=\"band\", col=\"time\", col_wrap=3, figsize=(6, 8))\n",
    "for ax in g.axes.flat:\n",
    "    ax.set_axis_off()\n",
    "\n",
    "plt.tight_layout()"
   ]
  },
  {
   "cell_type": "code",
   "execution_count": null,
   "id": "0db41b34-5170-4416-8d75-aa06a918605a",
   "metadata": {},
   "outputs": [],
   "source": []
  }
 ],
 "metadata": {
  "kernelspec": {
   "display_name": "Python 3 (ipykernel)",
   "language": "python",
   "name": "python3"
  },
  "language_info": {
   "codemirror_mode": {
    "name": "ipython",
    "version": 3
   },
   "file_extension": ".py",
   "mimetype": "text/x-python",
   "name": "python",
   "nbconvert_exporter": "python",
   "pygments_lexer": "ipython3",
   "version": "3.11.4"
  }
 },
 "nbformat": 4,
 "nbformat_minor": 5
}
