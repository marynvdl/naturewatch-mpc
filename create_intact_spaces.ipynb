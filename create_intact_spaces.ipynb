{
 "cells": [
  {
   "cell_type": "markdown",
   "id": "5f84c8aa-9f03-44c8-8efb-1d26bf163b70",
   "metadata": {},
   "source": [
    "# Summary\n",
    "\n",
    "Using the combined habitat degradation rasters from Google Cloud, we create polygons of the most intact spaces.\n"
   ]
  },
  {
   "cell_type": "markdown",
   "id": "1379d992-ef49-457f-9d2b-e368ed5febab",
   "metadata": {},
   "source": [
    "# Import AOI and setup"
   ]
  },
  {
   "cell_type": "code",
   "execution_count": null,
   "id": "b0b9d129-f861-4b72-8193-8c154f7d0b15",
   "metadata": {
    "tags": []
   },
   "outputs": [],
   "source": [
    "import os\n",
    "from google.cloud import storage\n",
    "import rasterio\n",
    "from rasterio.plot import show\n",
    "import numpy as np\n",
    "from scipy.ndimage import generic_filter\n",
    "import matplotlib.pyplot as plt\n",
    "import xarray as xr\n",
    "import rioxarray\n",
    "import dask_gateway"
   ]
  },
  {
   "cell_type": "code",
   "execution_count": null,
   "id": "4407fa40-ab80-47f1-aa30-f9e49fff7afb",
   "metadata": {
    "tags": []
   },
   "outputs": [],
   "source": [
    "cluster = dask_gateway.GatewayCluster()\n",
    "client = cluster.get_client()\n",
    "cluster.scale(4)\n",
    "print(cluster.dashboard_link)"
   ]
  },
  {
   "cell_type": "code",
   "execution_count": null,
   "id": "2a44b5fa-e129-4482-8023-2db0d8b050cf",
   "metadata": {
    "tags": []
   },
   "outputs": [],
   "source": [
    "cluster"
   ]
  },
  {
   "cell_type": "code",
   "execution_count": null,
   "id": "a4ad40ed-8664-4493-b57b-87fd363ca3ea",
   "metadata": {
    "tags": []
   },
   "outputs": [],
   "source": [
    "os.environ[\"GOOGLE_APPLICATION_CREDENTIALS\"] = \"../keys/gc_key.json\""
   ]
  },
  {
   "cell_type": "code",
   "execution_count": null,
   "id": "3eece9b1-cbd8-4194-954c-430f68280a1f",
   "metadata": {
    "tags": []
   },
   "outputs": [],
   "source": [
    "def download_blob(bucket_name, blob_name, local_dir):\n",
    "    \"\"\"Downloads a blob from the bucket to a specified directory.\"\"\"\n",
    "    storage_client = storage.Client()\n",
    "    bucket = storage_client.bucket(bucket_name)\n",
    "    blob = bucket.blob(blob_name)\n",
    "\n",
    "    # Construct file path in the specified local directory\n",
    "    local_file_path = os.path.join(local_dir, blob_name)\n",
    "\n",
    "    # Create directories if they don't exist\n",
    "    os.makedirs(os.path.dirname(local_file_path), exist_ok=True)\n",
    "\n",
    "    # Download the file\n",
    "    blob.download_to_filename(local_file_path)\n",
    "    return local_file_path\n"
   ]
  },
  {
   "cell_type": "code",
   "execution_count": null,
   "id": "b000dec2-ee55-43da-b384-d24562129c2d",
   "metadata": {
    "tags": []
   },
   "outputs": [],
   "source": [
    "bucket_name = 'nature-watch-bucket'\n",
    "local_dir = '../data/nature-watch/'\n",
    "\n",
    "image_16 = download_blob(bucket_name, 'COGS/all/2023/all2023_16.tif', local_dir)\n",
    "image_17 = download_blob(bucket_name, 'COGS/all/2023/all2023_17.tif', local_dir)"
   ]
  },
  {
   "cell_type": "code",
   "execution_count": null,
   "id": "d98278e9-8e10-4c0a-8db6-726661eba71a",
   "metadata": {
    "tags": []
   },
   "outputs": [],
   "source": [
    "# Load individual rasters\n",
    "raster1 = rioxarray.open_rasterio(image_16, lock=False, chunks={'band': 1, 'x': 'auto', 'y': 'auto'})\n",
    "raster2 = rioxarray.open_rasterio(image_17, lock=False, chunks={'band': 1, 'x': 'auto', 'y': 'auto'})\n",
    "\n",
    "raster1.name = \"value\"\n",
    "raster2.name = \"value\"\n",
    "\n",
    "# Concatenate the rasters\n",
    "combined_raster = xr.merge([raster1, raster2])"
   ]
  },
  {
   "cell_type": "code",
   "execution_count": null,
   "id": "3a30c8f4-a960-44cc-a7a3-8677ca4452af",
   "metadata": {
    "tags": []
   },
   "outputs": [],
   "source": [
    "combined_raster['value'].plot()"
   ]
  },
  {
   "cell_type": "code",
   "execution_count": null,
   "id": "4506e050-5f43-4d8c-b14c-1d448bf170b4",
   "metadata": {
    "tags": []
   },
   "outputs": [],
   "source": [
    "import dask.array as da\n",
    "\n",
    "def quart3_xarray(da, kernel_size=3):\n",
    "    # Ensure that the function is compatible with Dask arrays\n",
    "    # and does not force computation until necessary\n",
    "    def quart3_dask(window):\n",
    "        # Custom operation compatible with Dask\n",
    "        return da.percentile(window, 75, interpolation='nearest')\n",
    "\n",
    "    return xr.apply_ufunc(\n",
    "        lambda x: da.map_overlap(quart3_dask, x, depth=kernel_size, boundary='none'),\n",
    "        da,\n",
    "        input_core_dims=[['y', 'x']],\n",
    "        output_core_dims=[['y', 'x']],\n",
    "        vectorize=True,\n",
    "        dask='parallelized',\n",
    "        output_dtypes=[da.dtype]\n",
    "    )\n"
   ]
  },
  {
   "cell_type": "code",
   "execution_count": null,
   "id": "b3baaedb-e7e3-47a1-87fd-160606e426fc",
   "metadata": {
    "tags": []
   },
   "outputs": [],
   "source": [
    "%%time\n",
    "filtered_raster = quart3_xarray(combined_raster['value'], kernel_size=5)\n",
    "filtered_raster.compute()"
   ]
  },
  {
   "cell_type": "code",
   "execution_count": null,
   "id": "91fe8846-c93a-4bf8-bbfc-59fb0b882539",
   "metadata": {
    "tags": []
   },
   "outputs": [],
   "source": [
    "plt.imshow(filtered_raster[0], cmap='gray')\n",
    "plt.colorbar()\n",
    "plt.show()"
   ]
  },
  {
   "cell_type": "code",
   "execution_count": null,
   "id": "cf390488-70d9-4c55-b22a-e74a3b7cb7f3",
   "metadata": {},
   "outputs": [],
   "source": [
    "def test_file_access():\n",
    "    try:\n",
    "        return os.getcwd()\n",
    "    except Exception as e:\n",
    "        return str(e)\n",
    "\n",
    "future = client.submit(test_file_access)\n",
    "result = future.result()\n",
    "print(result)\n"
   ]
  },
  {
   "cell_type": "code",
   "execution_count": null,
   "id": "2a362904-8b0e-4568-857e-b3bbf37e13d4",
   "metadata": {
    "tags": []
   },
   "outputs": [],
   "source": [
    "cluster.close()"
   ]
  },
  {
   "cell_type": "code",
   "execution_count": null,
   "id": "d9cef5ef-b3aa-4202-9a51-fbeaeb8b428f",
   "metadata": {
    "tags": []
   },
   "outputs": [],
   "source": [
    "import dask.array as da\n",
    "import rioxarray\n",
    "import gcsfs\n",
    "\n",
    "# Initialize a GCS filesystem object\n",
    "fs = gcsfs.GCSFileSystem(project='nature-watch', token=\"../keys/gc_key.json\")\n",
    "\n",
    "# Example: Constructing the URL for a file in GCS\n",
    "gcs_path_16 = 'gs://nature-watch-bucket/COGS/all/2023/all2023_16.tif'\n",
    "\n",
    "# Open the dataset directly from GCS\n",
    "with fs.open(gcs_path) as f:\n",
    "    raster1 = rioxarray.open_rasterio(f, chunks={'x': 'auto', 'y': 'auto'})\n",
    "    \n",
    "    \n",
    "gcs_path_17 = 'gs://nature-watch-bucket/COGS/all/2023/all2023_17.tif'\n",
    "\n",
    "# Open the dataset directly from GCS\n",
    "with fs.open(gcs_path) as f:\n",
    "    raster2 = rioxarray.open_rasterio(f, chunks={'x': 'auto', 'y': 'auto'})\n",
    "\n",
    "raster1.name = \"value\"\n",
    "raster2.name = \"value\"\n",
    "\n",
    "# Concatenate the rasters\n",
    "combined_raster = xr.merge([raster1, raster2])\n",
    "# Now you can work with the raster as a Dask array\n"
   ]
  },
  {
   "cell_type": "code",
   "execution_count": null,
   "id": "71c04ea6-de04-4a27-8a07-bfe03f598793",
   "metadata": {},
   "outputs": [],
   "source": []
  }
 ],
 "metadata": {
  "kernelspec": {
   "display_name": "Python 3 (ipykernel)",
   "language": "python",
   "name": "python3"
  },
  "language_info": {
   "codemirror_mode": {
    "name": "ipython",
    "version": 3
   },
   "file_extension": ".py",
   "mimetype": "text/x-python",
   "name": "python",
   "nbconvert_exporter": "python",
   "pygments_lexer": "ipython3",
   "version": "3.11.4"
  }
 },
 "nbformat": 4,
 "nbformat_minor": 5
}
