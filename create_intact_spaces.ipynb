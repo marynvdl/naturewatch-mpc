{
 "cells": [
  {
   "cell_type": "markdown",
   "id": "5f84c8aa-9f03-44c8-8efb-1d26bf163b70",
   "metadata": {},
   "source": [
    "# Summary\n",
    "\n",
    "Using the drivers rasters from GEE tlg_habitat_intactness.ipynb and locally to combine them into Habitat Intactness rasters for Majete Wildlife Reserve, Malawi.\n"
   ]
  },
  {
   "cell_type": "markdown",
   "id": "1379d992-ef49-457f-9d2b-e368ed5febab",
   "metadata": {},
   "source": [
    "# Import AOI and setup"
   ]
  },
  {
   "cell_type": "code",
   "execution_count": 1,
   "id": "b0b9d129-f861-4b72-8193-8c154f7d0b15",
   "metadata": {
    "tags": []
   },
   "outputs": [],
   "source": [
    "import os\n",
    "from google.cloud import storage\n",
    "import rasterio\n",
    "from rasterio.plot import show\n",
    "import numpy as np\n",
    "from scipy.ndimage import generic_filter\n",
    "import matplotlib.pyplot as plt\n",
    "import xarray as xr\n",
    "import rioxarray\n",
    "import dask_gateway"
   ]
  },
  {
   "cell_type": "code",
   "execution_count": null,
   "id": "d9ef6ae6-b80e-4014-a3a4-6f0bb6352753",
   "metadata": {
    "tags": []
   },
   "outputs": [],
   "source": [
    "cluster = dask_gateway.GatewayCluster()\n",
    "client = cluster.get_client()\n",
    "cluster.scale(4)\n",
    "print(cluster.dashboard_link)"
   ]
  },
  {
   "cell_type": "code",
   "execution_count": null,
   "id": "a4ad40ed-8664-4493-b57b-87fd363ca3ea",
   "metadata": {
    "tags": []
   },
   "outputs": [],
   "source": [
    "os.environ[\"GOOGLE_APPLICATION_CREDENTIALS\"] = \"../keys/gc_key.json\""
   ]
  },
  {
   "cell_type": "code",
   "execution_count": null,
   "id": "3eece9b1-cbd8-4194-954c-430f68280a1f",
   "metadata": {
    "tags": []
   },
   "outputs": [],
   "source": [
    "def download_blob(bucket_name, blob_name, local_dir):\n",
    "    \"\"\"Downloads a blob from the bucket to a specified directory.\"\"\"\n",
    "    storage_client = storage.Client()\n",
    "    bucket = storage_client.bucket(bucket_name)\n",
    "    blob = bucket.blob(blob_name)\n",
    "\n",
    "    # Construct file path in the specified local directory\n",
    "    local_file_path = os.path.join(local_dir, blob_name)\n",
    "\n",
    "    # Create directories if they don't exist\n",
    "    os.makedirs(os.path.dirname(local_file_path), exist_ok=True)\n",
    "\n",
    "    # Download the file\n",
    "    blob.download_to_filename(local_file_path)\n",
    "    return local_file_path\n"
   ]
  },
  {
   "cell_type": "code",
   "execution_count": null,
   "id": "b000dec2-ee55-43da-b384-d24562129c2d",
   "metadata": {
    "tags": []
   },
   "outputs": [],
   "source": [
    "bucket_name = 'nature-watch-bucket'\n",
    "blob_name = 'COGS/all/2023/all2023_15.tif'\n",
    "local_dir = '../data/nature-watch/'\n",
    "\n",
    "all_image = download_blob(bucket_name, blob_name, local_dir)\n"
   ]
  },
  {
   "cell_type": "code",
   "execution_count": null,
   "id": "68b8dd53-ad5a-47e2-802b-adb4ec34ca02",
   "metadata": {
    "tags": []
   },
   "outputs": [],
   "source": [
    "with rasterio.open(all_image) as r:\n",
    "    if r.is_tiled:\n",
    "        print(f\"Chunk size: {r.block_shapes}\")"
   ]
  },
  {
   "cell_type": "code",
   "execution_count": null,
   "id": "3a30c8f4-a960-44cc-a7a3-8677ca4452af",
   "metadata": {
    "tags": []
   },
   "outputs": [],
   "source": [
    "raster_ds = rioxarray.open_rasterio(all_image, lock=False, chunks=\"auto\")"
   ]
  },
  {
   "cell_type": "code",
   "execution_count": null,
   "id": "4506e050-5f43-4d8c-b14c-1d448bf170b4",
   "metadata": {
    "tags": []
   },
   "outputs": [],
   "source": [
    "def quart3(window):\n",
    "    return np.percentile(window, 75)\n",
    "\n",
    "def quart3_xarray(da, kernel_size=3):\n",
    "    return xr.apply_ufunc(\n",
    "        lambda x: generic_filter(x, quart3, size=kernel_size),\n",
    "        da,\n",
    "        input_core_dims=[['y', 'x']],\n",
    "        output_core_dims=[['y', 'x']],\n",
    "        vectorize=True,\n",
    "        dask='parallelized',\n",
    "        output_dtypes=[da.dtype]\n",
    "    )"
   ]
  },
  {
   "cell_type": "code",
   "execution_count": null,
   "id": "b3baaedb-e7e3-47a1-87fd-160606e426fc",
   "metadata": {
    "tags": []
   },
   "outputs": [],
   "source": [
    "filtered_raster = quart3_xarray(raster_ds, kernel_size=5)\n",
    "filtered_raster.compute()"
   ]
  },
  {
   "cell_type": "code",
   "execution_count": null,
   "id": "91fe8846-c93a-4bf8-bbfc-59fb0b882539",
   "metadata": {
    "tags": []
   },
   "outputs": [],
   "source": [
    "plt.imshow(filtered_raster, cmap='gray')\n",
    "plt.colorbar()\n",
    "plt.show()"
   ]
  },
  {
   "cell_type": "code",
   "execution_count": null,
   "id": "cf390488-70d9-4c55-b22a-e74a3b7cb7f3",
   "metadata": {},
   "outputs": [],
   "source": []
  }
 ],
 "metadata": {
  "kernelspec": {
   "display_name": "Python 3 (ipykernel)",
   "language": "python",
   "name": "python3"
  },
  "language_info": {
   "codemirror_mode": {
    "name": "ipython",
    "version": 3
   },
   "file_extension": ".py",
   "mimetype": "text/x-python",
   "name": "python",
   "nbconvert_exporter": "python",
   "pygments_lexer": "ipython3",
   "version": "3.11.4"
  }
 },
 "nbformat": 4,
 "nbformat_minor": 5
}
